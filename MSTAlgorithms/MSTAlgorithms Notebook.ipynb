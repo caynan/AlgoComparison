{
 "metadata": {
  "name": "",
  "signature": "sha256:f6498b0a59d6c72af1441ff81c077defbe709c8e06f6e4f91f083843ffa02cdc"
 },
 "nbformat": 3,
 "nbformat_minor": 0,
 "worksheets": [
  {
   "cells": [
    {
     "cell_type": "heading",
     "level": 1,
     "metadata": {},
     "source": [
      "MST Algorithms"
     ]
    },
    {
     "cell_type": "markdown",
     "metadata": {},
     "source": [
      "This is an ongoing project, with implementations of MST algorithms and comparison of their running time with 'real' input not only asymptotic analysis."
     ]
    },
    {
     "cell_type": "code",
     "collapsed": false,
     "input": [
      "import networkx as nx\n",
      "import numpy\n",
      "import random\n",
      "import time\n",
      "from heapq import heappop, heappush"
     ],
     "language": "python",
     "metadata": {},
     "outputs": [],
     "prompt_number": 38
    },
    {
     "cell_type": "markdown",
     "metadata": {},
     "source": [
      "Generate the edges in a minimum spanning forest of an undirected weighted graph, using **Kruskal's Algorithm**"
     ]
    },
    {
     "cell_type": "code",
     "collapsed": false,
     "input": [
      "from networkx.utils import UnionFind\n",
      "\n",
      "def kruskal_spanning_edges(graph):\n",
      "    \"\"\" Kruskal's algorithm: sort edges by weight, and add them one at a time.\"\"\"\n",
      "    weight = 1\n",
      "\n",
      "    subtrees = UnionFind()\n",
      "    edges = sorted(graph.edges(data=True), key=lambda t: t[2].get(weight,1))\n",
      "    for u,v,d in edges:\n",
      "        if subtrees[u] != subtrees[v]:\n",
      "            yield (u,v,d)\n",
      "            subtrees.union(u, v)\n",
      "            \n",
      "def kruskal_mst(graph):\n",
      "    T = nx.Graph(kruskal_spanning_edges(graph))\n",
      "    # add isolated nodes\n",
      "    if len(T) != len (graph):\n",
      "        T.add_nodes_from([n for n,d in graph.degree().items() if d == 0])\n",
      "    # add node and graph attributes as shallow copy\n",
      "    for n in T:\n",
      "        T.node[n] = graph.node[n].copy()\n",
      "    T.graph = graph.graph.copy()\n",
      "    return T"
     ],
     "language": "python",
     "metadata": {},
     "outputs": [
      {
       "output_type": "stream",
       "stream": "stdout",
       "text": [
        "\n"
       ]
      }
     ],
     "prompt_number": 49
    },
    {
     "cell_type": "markdown",
     "metadata": {},
     "source": [
      "Generate the edges in a minimum spanning forest of an undirected weighted graph, using **Prim's Algorithm**"
     ]
    },
    {
     "cell_type": "code",
     "collapsed": false,
     "input": [
      "def prim_mst_edges(G):\n",
      "\n",
      "    weight = 1\n",
      "    nodes = G.nodes()\n",
      "\n",
      "    while nodes:\n",
      "        u = nodes.pop(0)\n",
      "        frontier = []\n",
      "        visited = [u]\n",
      "        for u, v in G.edges(u):\n",
      "            heappush(frontier, (G[u][v].get(weight, 1), u, v))\n",
      "\n",
      "        while frontier:\n",
      "            W, u, v = heappop(frontier)\n",
      "            if v in visited:\n",
      "                continue\n",
      "            visited.append(v)\n",
      "            nodes.remove(v)\n",
      "            for v, w  in G.edges(v):\n",
      "                if not w in visited:\n",
      "                    heappush(frontier, (G[v][w].get(weight, 1), v, w))\n",
      "            yield u, v, G[u][v]\n",
      "\n",
      "                \n",
      "                \n",
      "def prim_mst(G):\n",
      "    weight = 1\n",
      "    T=nx.Graph(nx.prim_mst_edges(G))\n",
      "    # Add isolated nodes\n",
      "    if len(T)!=len(G):\n",
      "        T.add_nodes_from([n for n,d in G.degree().items() if d==0])\n",
      "    # Add node and graph attributes as shallow copy\n",
      "    for n in T:\n",
      "        T.node[n]=G.node[n].copy()\n",
      "    T.graph=G.graph.copy()\n",
      "    return T"
     ],
     "language": "python",
     "metadata": {},
     "outputs": [],
     "prompt_number": 26
    },
    {
     "cell_type": "heading",
     "level": 4,
     "metadata": {},
     "source": [
      "Test Suite"
     ]
    },
    {
     "cell_type": "code",
     "collapsed": false,
     "input": [
      "def timeAlgo(algorithm, arrays):\n",
      "    \"\"\"\n",
      "    given an algorithm and a set of graphs, measure time to process input.\n",
      "    return, the average time between all the inputs.\n",
      "    \"\"\"\n",
      "    sample = []\n",
      "    for graph in graphs:\n",
      "        t0 = time.clock()\n",
      "        MSTs = algorithm(graph)\n",
      "        t1 = time.clock()\n",
      "        sample.append(t1 - t0)\n",
      "    return numpy.median(sample)"
     ],
     "language": "python",
     "metadata": {},
     "outputs": [],
     "prompt_number": 32
    },
    {
     "cell_type": "heading",
     "level": 4,
     "metadata": {},
     "source": [
      "Random Graph Generator"
     ]
    },
    {
     "cell_type": "markdown",
     "metadata": {},
     "source": [
      "We're going to use the library networkX, which give us some useful functions to use with our graph algorithms. One of them is the ```gnm_random_graph``` which produces a graph picked randomly out of the set of all graphs with n nodes and m edges."
     ]
    },
    {
     "cell_type": "code",
     "collapsed": false,
     "input": [
      "def graph_gen(num_vertices, num_edges):\n",
      "    seed = 42;\n",
      "    return nx.gnm_random_graph(num_vertices, num_edges, seed, False)\n",
      "\n",
      "# Create some pre-build graphs for our test\n",
      "def set_of_graphs(n):\n",
      "    random.seed('42')\n",
      "    return [graph_gen(random.randrange(10, 10000), random.randrange(10, 10000)) for g in range(n)]\n",
      "    \n",
      "# Built some graphs to use for tests\n",
      "graphs = set_of_graphs(100)\n"
     ],
     "language": "python",
     "metadata": {},
     "outputs": [
      {
       "output_type": "stream",
       "stream": "stdout",
       "text": [
        "\n"
       ]
      }
     ],
     "prompt_number": 47
    },
    {
     "cell_type": "code",
     "collapsed": false,
     "input": [
      "print \"Prim's Algorithms to process one hundred random graphs = \", timeAlgo(prim_mst, graphs)\n",
      "print \"Kruskal's Algorithms to process one hundred random graphs = \", timeAlgo(kruskal_mst, graphs)"
     ],
     "language": "python",
     "metadata": {},
     "outputs": [
      {
       "output_type": "stream",
       "stream": "stdout",
       "text": [
        "Prim's Algorithms to process one hundred random graphs =  "
       ]
      },
      {
       "output_type": "stream",
       "stream": "stdout",
       "text": [
        "0.466336\n",
        "Kruskal's Algorithms to process one hundred random graphs =  "
       ]
      },
      {
       "output_type": "stream",
       "stream": "stdout",
       "text": [
        "0.0539895\n"
       ]
      }
     ],
     "prompt_number": 50
    }
   ],
   "metadata": {}
  }
 ]
}