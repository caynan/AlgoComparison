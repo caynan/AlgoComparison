{
 "metadata": {
  "name": "",
  "signature": "sha256:7965c4ab64936ab0a2d53df109e59a614102979f972dba55ee7a6c5c994f61ba"
 },
 "nbformat": 3,
 "nbformat_minor": 0,
 "worksheets": [
  {
   "cells": [
    {
     "cell_type": "heading",
     "level": 1,
     "metadata": {},
     "source": [
      "MST Algorithms"
     ]
    },
    {
     "cell_type": "markdown",
     "metadata": {},
     "source": [
      "This is an ongoing project, with implementations of MST algorithms and comparison of their running time with 'real' input not only asymptotic analysis."
     ]
    },
    {
     "cell_type": "heading",
     "level": 2,
     "metadata": {},
     "source": [
      "Random Graph Generator"
     ]
    },
    {
     "cell_type": "markdown",
     "metadata": {},
     "source": [
      "We're going to use the library networkX, which give us some useful functions to use with our graph algorithms. One of them is the ```gnm_random_graph``` which produces a graph picked randomly out of the set of all graphs with n nodes and m edges."
     ]
    },
    {
     "cell_type": "code",
     "collapsed": false,
     "input": [
      "import networkx as nx\n",
      "from heapq import heappop, heappush"
     ],
     "language": "python",
     "metadata": {},
     "outputs": [],
     "prompt_number": 1
    },
    {
     "cell_type": "markdown",
     "metadata": {},
     "source": [
      "Generate the edges in a minimum spanning forest of an undirected weighted graph, using Kruskal's Algorithm"
     ]
    },
    {
     "cell_type": "code",
     "collapsed": false,
     "input": [
      "from networkx.utils import UnionFind\n",
      "\n",
      "def kruskal_spanning_edges(graph):\n",
      "    \"\"\" Kruskal's algorithm: sort edges by weight, and add them one at a time.\"\"\"\n",
      "    weight = 1\n",
      "    \n",
      "    if graph.is_directed():\n",
      "        raise nx.NetworkXError(\n",
      "            \"MST not defined for directed graphs.\")\n",
      "        \n",
      "    subtrees = UnionFind()\n",
      "    edges = sorted(graph.edges(data=True), key=lambda t: t[2].get(weight,1))\n",
      "    for u,v,d in edges:\n",
      "        if subtrees[u] != subtrees[v]:\n",
      "            yield (u,v,d)\n",
      "            subtrees.union(u, v)\n",
      "            \n",
      "def kruskal_mst(graph):\n",
      "    T = nx.Graph(kruskal_spanning_edges(graph))\n",
      "    # add isolated nodes\n",
      "    if len(T) != len (graph):\n",
      "        T.add_nodes_from([n for n,d in graph.degree().items() if d == 0])\n",
      "    # add node and graph attributes as shallow copy\n",
      "    for n in T:\n",
      "        T.node[n] = graph.node[n],copy()\n",
      "    T.graph = graph.graph.copy()\n",
      "    return T"
     ],
     "language": "python",
     "metadata": {},
     "outputs": [],
     "prompt_number": 2
    },
    {
     "cell_type": "markdown",
     "metadata": {},
     "source": [
      "Generate the edges in a minimum spanning forest of an undirected weighted graph, using Prim's Algorithm"
     ]
    },
    {
     "cell_type": "code",
     "collapsed": false,
     "input": [
      "def prim_mst_edges(graph):\n",
      "\n",
      "    weight = 1\n",
      "    \n",
      "    if graph.is_directed():\n",
      "        raise nx.NetworkXError(\n",
      "            \"MST not defined for directed graphs.\")\n",
      "        \n",
      "    nodes = graph.nodes()\n",
      "    \n",
      "    while nodes:\n",
      "        u = nodes.pop(0)\n",
      "        frontier = []\n",
      "        visited = [u]\n",
      "        for u, v in G.edges(u):\n",
      "            heappush(frontier, (graph[u][v].get(weight, 1), u, v))\n",
      "            \n",
      "        while frontier:\n",
      "            W, u, v = heappop(frontier)\n",
      "            if v in visited:\n",
      "                continue\n",
      "            visited.append(v)\n",
      "            nodes.remove(v)\n",
      "            for v, w in graph.edges(v):\n",
      "                if not w in visited:\n",
      "                    heappush(frontier, (graph[v][w].get(weight, 1), v, w))\n",
      "                yield u, v, graph[u][v]"
     ],
     "language": "python",
     "metadata": {},
     "outputs": [],
     "prompt_number": 3
    },
    {
     "cell_type": "code",
     "collapsed": false,
     "input": [
      "def prim_mst(graph):\n",
      "    weight = 1\n",
      "    \n",
      "    T = nx.Graph(prim_mst_edges(graph))\n",
      "    # add isolated nodes\n",
      "    if len(T) != len(graph):\n",
      "        T.add_nodes_from([n for n,d in graph.degree() if d==0])\n",
      "    # add node and graph attributes as shallow copy\n",
      "    for n in T:\n",
      "        T.node[n] = graph.node[n].copy()\n",
      "    T.graph = graph.graph.copy()\n",
      "    return T"
     ],
     "language": "python",
     "metadata": {},
     "outputs": [],
     "prompt_number": 4
    },
    {
     "cell_type": "code",
     "collapsed": false,
     "input": [],
     "language": "python",
     "metadata": {},
     "outputs": []
    }
   ],
   "metadata": {}
  }
 ]
}